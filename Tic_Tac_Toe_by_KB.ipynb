{
  "cells": [
    {
      "cell_type": "markdown",
      "source": [
        "## **This is my first python project on Tic Tac Toe game for Minor in CSE programme at MASAI SCHOOL in collaboration with IIT Mandi**"
      ],
      "metadata": {
        "id": "nQeU3maJggmh"
      }
    },
    {
      "cell_type": "code",
      "execution_count": null,
      "metadata": {
        "colab": {
          "base_uri": "https://localhost:8080/"
        },
        "id": "uYgVdkI_S-ne",
        "outputId": "f2b4780c-a273-441f-c858-2cd944aaa25a"
      },
      "outputs": [
        {
          "output_type": "stream",
          "name": "stdout",
          "text": [
            "Welcome to Tic Tac Toe!\n",
            "Do you want to load a saved game? (y/n): n\n",
            "- | - | -\n",
            "--+---+--\n",
            "- | - | -\n",
            "--+---+--\n",
            "- | - | -\n",
            "Player X, enter your move (1-9): 1\n",
            "X | - | -\n",
            "--+---+--\n",
            "- | - | -\n",
            "--+---+--\n",
            "- | - | -\n",
            "Player O, enter your move (1-9): 4\n",
            "X | - | -\n",
            "--+---+--\n",
            "O | - | -\n",
            "--+---+--\n",
            "- | - | -\n",
            "Player X, enter your move (1-9): 2\n",
            "X | X | -\n",
            "--+---+--\n",
            "O | - | -\n",
            "--+---+--\n",
            "- | - | -\n",
            "Player O, enter your move (1-9): 5\n",
            "X | X | -\n",
            "--+---+--\n",
            "O | O | -\n",
            "--+---+--\n",
            "- | - | -\n",
            "Player X, enter your move (1-9): 3\n",
            "X | X | X\n",
            "--+---+--\n",
            "O | O | -\n",
            "--+---+--\n",
            "- | - | -\n",
            "Player X wins!\n"
          ]
        }
      ],
      "source": [
        "import os #Here we import the os module, which provides functions for interacting with the operating system.\n",
        "\n",
        "def print_board(board): #print_board function is defined with board as arguement and display the board in a user-freindly format\n",
        "    \"\"\"Prints the current state of the Tic Tac Toe board.\"\"\"\n",
        "    print(board[0] + \" | \" + board[1] + \" | \" + board[2])\n",
        "    print(\"--+---+--\")\n",
        "    print(board[3] + \" | \" + board[4] + \" | \" + board[5])\n",
        "    print(\"--+---+--\")\n",
        "    print(board[6] + \" | \" + board[7] + \" | \" + board[8])\n",
        "\n",
        "def check_win(board):#This function defined a list of tuples, where each tuple represents a wining input\n",
        "    \"\"\"Checks if there is a winner.\"\"\"\n",
        "    wins = [(0, 1, 2), (3, 4, 5), (6, 7, 8), (0, 3, 6),\n",
        "            (1, 4, 7), (2, 5, 8), (0, 4, 8), (2, 4, 6)] #list of tuples for wining combination\n",
        "    for win in wins:#This loop iterates through each winning combination\n",
        "        if board[win[0]] == board[win[1]] == board[win[2]] and board[win[0]] != \"-\":#Check if all three positions in current wining combination have same player's and are not empty\n",
        "            return board[win[0]] #If a winner is found, the function returns winning player's mark\n",
        "    return None\n",
        "\n",
        "def play_game(): #This defines the main function to run the game\n",
        "    \"\"\"Main function to play the Tic Tac Toe game.\"\"\"\n",
        "    board = [\"-\", \"-\", \"-\", \"-\", \"-\", \"-\", \"-\", \"-\", \"-\"] #Initializes the board with empty spaces represented by -\n",
        "    current_player = \"X\" #Sets the starting player to X\n",
        "    game_over = False #Initializes the game state to not over.\n",
        "\n",
        "    while not game_over: #This loop continues as long as the game is not over\n",
        "        print_board(board)\n",
        "        move = input(\"Player \" + current_player + \", enter your move (1-9): \")\n",
        "\n",
        "        try:\n",
        "            move = int(move) - 1\n",
        "            if 0 <= move <= 8 and board[move] == \"-\":\n",
        "                board[move] = current_player\n",
        "                winner = check_win(board)\n",
        "\n",
        "                if winner:\n",
        "                    print_board(board)\n",
        "                    print(\"Player \" + winner + \" wins!\")\n",
        "                    game_over = True\n",
        "                elif \"-\" not in board:\n",
        "                    print_board(board)\n",
        "                    print(\"It's a tie!\")\n",
        "                    game_over = True\n",
        "                else:\n",
        "                    current_player = \"O\" if current_player == \"X\" else \"X\"\n",
        "            else:\n",
        "                print(\"Invalid move. Please try again.\")\n",
        "        except ValueError:\n",
        "            print(\"Invalid input. Please enter a number between 1 and 9.\")\n",
        "\n",
        "    save_game_prompt = input(\"Do you want to save the game? (y/n): \")\n",
        "    if save_game_prompt.lower() == \"y\":\n",
        "        save_game(board, current_player)\n",
        "\n",
        "def save_game(board, current_player):\n",
        "    \"\"\"Saves the current game state to a file.\"\"\"\n",
        "    try:\n",
        "        with open(\"game_state.txt\", \"w\") as file:\n",
        "            file.write(\",\".join(board) + \"\\n\")\n",
        "            file.write(\"Player Turn: \" + current_player)\n",
        "        print(\"Game state saved!\")\n",
        "    except IOError:\n",
        "        print(\"Error saving game state.\")\n",
        "\n",
        "def load_game():\n",
        "    \"\"\"Loads a saved game state from a file.\"\"\"\n",
        "    try:\n",
        "        with open(\"game_state.txt\", \"r\") as file:\n",
        "            board = file.readline().strip().split(\",\")\n",
        "            player_turn_line = file.readline().strip()\n",
        "\n",
        "            # Check if the line contains \"Player Turn:\" before splitting\n",
        "            if \": \" in player_turn_line:\n",
        "                current_player = player_turn_line.split(\": \")[1]\n",
        "            else:\n",
        "                current_player = \"X\"  # Default to player X if not found\n",
        "\n",
        "        return board, current_player\n",
        "    except FileNotFoundError:\n",
        "        print(\"No saved game found.\")\n",
        "        return None, None\n",
        "    except IOError:\n",
        "        print(\"Error loading game state.\")\n",
        "        return None, None\n",
        "\n",
        "if __name__ == \"__main__\":\n",
        "    print(\"Welcome to Tic Tac Toe!\")\n",
        "\n",
        "    load_saved_game = input(\"Do you want to load a saved game? (y/n): \")\n",
        "    if load_saved_game.lower() == \"y\":\n",
        "        board, current_player = load_game()\n",
        "        if board and current_player:\n",
        "            play_game()  # Resume the game with loaded state\n",
        "    else:\n",
        "        play_game()  # Start a new game"
      ]
    },
    {
      "cell_type": "markdown",
      "metadata": {
        "id": "tTwHHXYXcC4G"
      },
      "source": []
    }
  ],
  "metadata": {
    "colab": {
      "provenance": []
    },
    "kernelspec": {
      "display_name": "Python 3",
      "name": "python3"
    },
    "language_info": {
      "name": "python"
    }
  },
  "nbformat": 4,
  "nbformat_minor": 0
}